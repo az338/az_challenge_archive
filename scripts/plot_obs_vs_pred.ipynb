{
 "metadata": {
  "name": ""
 },
 "nbformat": 3,
 "nbformat_minor": 0,
 "worksheets": [
  {
   "cells": [
    {
     "cell_type": "code",
     "collapsed": false,
     "input": [
      "import pandas as pd\n",
      "import plotly.plotly as py\n",
      "import plotly.graph_objs as go\n",
      "from os import listdir\n",
      "import numpy as np\n",
      "from scipy.stats import pearsonr\n",
      "from IPython.display import display"
     ],
     "language": "python",
     "metadata": {},
     "outputs": [],
     "prompt_number": 32
    },
    {
     "cell_type": "code",
     "collapsed": false,
     "input": [
      "def plot_obs_vs_pred(obs,pred,title):\n",
      "    trace0 = go.Scatter(\n",
      "        x=obs,\n",
      "        y=pred,\n",
      "        mode='markers'\n",
      "    )\n",
      "    layout = go.Layout(\n",
      "        title = 'Pearson r: '+str(round(pearsonr(obs,pred)[0],2)),\n",
      "        xaxis = dict(title='Observed Synergy'),\n",
      "        yaxis = dict(title='Predicted Synergy'),\n",
      "        showlegend=False\n",
      "    )\n",
      "    data=[trace0]\n",
      "    fig = go.Figure(data=data,layout=layout)\n",
      "    display(py.iplot(fig,filename=title))\n"
     ],
     "language": "python",
     "metadata": {},
     "outputs": [],
     "prompt_number": 43
    },
    {
     "cell_type": "code",
     "collapsed": false,
     "input": [
      "RES_DIR = '/scratch/az338/ucc-fileserver/ucc_az/AZ_challenge/results/'\n",
      "for f in listdir(RES_DIR):\n",
      "        if f.startswith('obs_vs_pred'):\n",
      "            print f\n",
      "            data = pd.read_csv(RES_DIR+f)\n",
      "            plot_obs_vs_pred(data['SYNERGY_SCORE'].values,data['predicted'].values,f)"
     ],
     "language": "python",
     "metadata": {},
     "outputs": [
      {
       "output_type": "stream",
       "stream": "stdout",
       "text": [
        "obs_vs_pred_Niche.csv\n"
       ]
      },
      {
       "html": [
        "<iframe id=\"igraph\" scrolling=\"no\" style=\"border:none;\"seamless=\"seamless\" src=\"https://plot.ly/~azedine.zoufir/276.embed\" height=\"525\" width=\"100%\"></iframe>"
       ],
       "metadata": {},
       "output_type": "display_data",
       "text": [
        "<plotly.tools.PlotlyDisplay at 0x7f60d7aefed0>"
       ]
      },
      {
       "output_type": "stream",
       "stream": "stdout",
       "text": [
        "obs_vs_pred_GI.csv\n"
       ]
      },
      {
       "html": [
        "<iframe id=\"igraph\" scrolling=\"no\" style=\"border:none;\"seamless=\"seamless\" src=\"https://plot.ly/~azedine.zoufir/278.embed\" height=\"525\" width=\"100%\"></iframe>"
       ],
       "metadata": {},
       "output_type": "display_data",
       "text": [
        "<plotly.tools.PlotlyDisplay at 0x7f60d7aefc90>"
       ]
      },
      {
       "output_type": "stream",
       "stream": "stdout",
       "text": [
        "obs_vs_pred_Breast.csv\n"
       ]
      },
      {
       "html": [
        "<iframe id=\"igraph\" scrolling=\"no\" style=\"border:none;\"seamless=\"seamless\" src=\"https://plot.ly/~azedine.zoufir/280.embed\" height=\"525\" width=\"100%\"></iframe>"
       ],
       "metadata": {},
       "output_type": "display_data",
       "text": [
        "<plotly.tools.PlotlyDisplay at 0x7f60d736d890>"
       ]
      },
      {
       "output_type": "stream",
       "stream": "stdout",
       "text": [
        "obs_vs_pred_Urology.csv\n"
       ]
      },
      {
       "html": [
        "<iframe id=\"igraph\" scrolling=\"no\" style=\"border:none;\"seamless=\"seamless\" src=\"https://plot.ly/~azedine.zoufir/282.embed\" height=\"525\" width=\"100%\"></iframe>"
       ],
       "metadata": {},
       "output_type": "display_data",
       "text": [
        "<plotly.tools.PlotlyDisplay at 0x7f60d7aefc50>"
       ]
      },
      {
       "output_type": "stream",
       "stream": "stdout",
       "text": [
        "obs_vs_pred_Lung.csv\n"
       ]
      },
      {
       "html": [
        "<iframe id=\"igraph\" scrolling=\"no\" style=\"border:none;\"seamless=\"seamless\" src=\"https://plot.ly/~azedine.zoufir/284.embed\" height=\"525\" width=\"100%\"></iframe>"
       ],
       "metadata": {},
       "output_type": "display_data",
       "text": [
        "<plotly.tools.PlotlyDisplay at 0x7f60d736d2d0>"
       ]
      }
     ],
     "prompt_number": 44
    }
   ],
   "metadata": {}
  }
 ]
}